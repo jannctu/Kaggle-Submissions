{
 "cells": [
  {
   "cell_type": "markdown",
   "id": "0155d288",
   "metadata": {},
   "source": [
    "# Import dependencies"
   ]
  },
  {
   "cell_type": "code",
   "execution_count": 1,
   "id": "cc52da49",
   "metadata": {},
   "outputs": [],
   "source": [
    "import numpy as np\n",
    "import pandas as pd "
   ]
  },
  {
   "cell_type": "code",
   "execution_count": 2,
   "id": "f79bae14",
   "metadata": {},
   "outputs": [],
   "source": [
    "from sklearn.model_selection import train_test_split\n",
    "from sklearn.feature_extraction.text import CountVectorizer\n",
    "from sklearn.ensemble import RandomForestRegressor\n",
    "from sklearn.metrics import mean_absolute_error\n",
    "from sklearn.linear_model import Ridge, LinearRegression\n",
    "from sklearn.metrics import mean_squared_error\n",
    "np.random.seed(0)"
   ]
  },
  {
   "cell_type": "markdown",
   "id": "eaf9c1f6",
   "metadata": {},
   "source": [
    "# Read the dataset"
   ]
  },
  {
   "cell_type": "code",
   "execution_count": 3,
   "id": "c1b24617",
   "metadata": {},
   "outputs": [
    {
     "data": {
      "text/html": [
       "<div>\n",
       "<style scoped>\n",
       "    .dataframe tbody tr th:only-of-type {\n",
       "        vertical-align: middle;\n",
       "    }\n",
       "\n",
       "    .dataframe tbody tr th {\n",
       "        vertical-align: top;\n",
       "    }\n",
       "\n",
       "    .dataframe thead th {\n",
       "        text-align: right;\n",
       "    }\n",
       "</style>\n",
       "<table border=\"1\" class=\"dataframe\">\n",
       "  <thead>\n",
       "    <tr style=\"text-align: right;\">\n",
       "      <th></th>\n",
       "      <th>id</th>\n",
       "      <th>url_legal</th>\n",
       "      <th>license</th>\n",
       "      <th>excerpt</th>\n",
       "      <th>target</th>\n",
       "      <th>standard_error</th>\n",
       "    </tr>\n",
       "  </thead>\n",
       "  <tbody>\n",
       "    <tr>\n",
       "      <th>0</th>\n",
       "      <td>c12129c31</td>\n",
       "      <td>NaN</td>\n",
       "      <td>NaN</td>\n",
       "      <td>When the young people returned to the ballroom...</td>\n",
       "      <td>-0.340259</td>\n",
       "      <td>0.464009</td>\n",
       "    </tr>\n",
       "    <tr>\n",
       "      <th>1</th>\n",
       "      <td>85aa80a4c</td>\n",
       "      <td>NaN</td>\n",
       "      <td>NaN</td>\n",
       "      <td>All through dinner time, Mrs. Fayre was somewh...</td>\n",
       "      <td>-0.315372</td>\n",
       "      <td>0.480805</td>\n",
       "    </tr>\n",
       "    <tr>\n",
       "      <th>2</th>\n",
       "      <td>b69ac6792</td>\n",
       "      <td>NaN</td>\n",
       "      <td>NaN</td>\n",
       "      <td>As Roger had predicted, the snow departed as q...</td>\n",
       "      <td>-0.580118</td>\n",
       "      <td>0.476676</td>\n",
       "    </tr>\n",
       "    <tr>\n",
       "      <th>3</th>\n",
       "      <td>dd1000b26</td>\n",
       "      <td>NaN</td>\n",
       "      <td>NaN</td>\n",
       "      <td>And outside before the palace a great garden w...</td>\n",
       "      <td>-1.054013</td>\n",
       "      <td>0.450007</td>\n",
       "    </tr>\n",
       "    <tr>\n",
       "      <th>4</th>\n",
       "      <td>37c1b32fb</td>\n",
       "      <td>NaN</td>\n",
       "      <td>NaN</td>\n",
       "      <td>Once upon a time there were Three Bears who li...</td>\n",
       "      <td>0.247197</td>\n",
       "      <td>0.510845</td>\n",
       "    </tr>\n",
       "  </tbody>\n",
       "</table>\n",
       "</div>"
      ],
      "text/plain": [
       "          id url_legal license  \\\n",
       "0  c12129c31       NaN     NaN   \n",
       "1  85aa80a4c       NaN     NaN   \n",
       "2  b69ac6792       NaN     NaN   \n",
       "3  dd1000b26       NaN     NaN   \n",
       "4  37c1b32fb       NaN     NaN   \n",
       "\n",
       "                                             excerpt    target  standard_error  \n",
       "0  When the young people returned to the ballroom... -0.340259        0.464009  \n",
       "1  All through dinner time, Mrs. Fayre was somewh... -0.315372        0.480805  \n",
       "2  As Roger had predicted, the snow departed as q... -0.580118        0.476676  \n",
       "3  And outside before the palace a great garden w... -1.054013        0.450007  \n",
       "4  Once upon a time there were Three Bears who li...  0.247197        0.510845  "
      ]
     },
     "execution_count": 3,
     "metadata": {},
     "output_type": "execute_result"
    }
   ],
   "source": [
    "train_df = pd.read_csv(\"../../Data/kaggle/commonlit-readability/train.csv\")\n",
    "test_df = pd.read_csv(\"../../Data/kaggle/commonlit-readability/test.csv\")\n",
    "train_df.head()\n",
    "#test_df.head()"
   ]
  },
  {
   "cell_type": "markdown",
   "id": "d56f7dd7",
   "metadata": {},
   "source": [
    "# Inspect the data"
   ]
  },
  {
   "cell_type": "code",
   "execution_count": 4,
   "id": "b2d96ebc",
   "metadata": {},
   "outputs": [
    {
     "data": {
      "text/plain": [
       "id                2834\n",
       "url_legal          667\n",
       "license             15\n",
       "excerpt           2834\n",
       "target            2834\n",
       "standard_error    2834\n",
       "dtype: int64"
      ]
     },
     "execution_count": 4,
     "metadata": {},
     "output_type": "execute_result"
    }
   ],
   "source": [
    "train_df.nunique()"
   ]
  },
  {
   "cell_type": "markdown",
   "id": "a588ccf1",
   "metadata": {},
   "source": [
    "# Preprocessing"
   ]
  },
  {
   "cell_type": "code",
   "execution_count": 5,
   "id": "24569e75",
   "metadata": {},
   "outputs": [
    {
     "data": {
      "text/html": [
       "<div>\n",
       "<style scoped>\n",
       "    .dataframe tbody tr th:only-of-type {\n",
       "        vertical-align: middle;\n",
       "    }\n",
       "\n",
       "    .dataframe tbody tr th {\n",
       "        vertical-align: top;\n",
       "    }\n",
       "\n",
       "    .dataframe thead th {\n",
       "        text-align: right;\n",
       "    }\n",
       "</style>\n",
       "<table border=\"1\" class=\"dataframe\">\n",
       "  <thead>\n",
       "    <tr style=\"text-align: right;\">\n",
       "      <th></th>\n",
       "      <th>excerpt</th>\n",
       "      <th>target</th>\n",
       "      <th>standard_error</th>\n",
       "    </tr>\n",
       "  </thead>\n",
       "  <tbody>\n",
       "    <tr>\n",
       "      <th>0</th>\n",
       "      <td>When the young people returned to the ballroom...</td>\n",
       "      <td>-0.340259</td>\n",
       "      <td>0.464009</td>\n",
       "    </tr>\n",
       "    <tr>\n",
       "      <th>1</th>\n",
       "      <td>All through dinner time, Mrs. Fayre was somewh...</td>\n",
       "      <td>-0.315372</td>\n",
       "      <td>0.480805</td>\n",
       "    </tr>\n",
       "    <tr>\n",
       "      <th>2</th>\n",
       "      <td>As Roger had predicted, the snow departed as q...</td>\n",
       "      <td>-0.580118</td>\n",
       "      <td>0.476676</td>\n",
       "    </tr>\n",
       "    <tr>\n",
       "      <th>3</th>\n",
       "      <td>And outside before the palace a great garden w...</td>\n",
       "      <td>-1.054013</td>\n",
       "      <td>0.450007</td>\n",
       "    </tr>\n",
       "    <tr>\n",
       "      <th>4</th>\n",
       "      <td>Once upon a time there were Three Bears who li...</td>\n",
       "      <td>0.247197</td>\n",
       "      <td>0.510845</td>\n",
       "    </tr>\n",
       "  </tbody>\n",
       "</table>\n",
       "</div>"
      ],
      "text/plain": [
       "                                             excerpt    target  standard_error\n",
       "0  When the young people returned to the ballroom... -0.340259        0.464009\n",
       "1  All through dinner time, Mrs. Fayre was somewh... -0.315372        0.480805\n",
       "2  As Roger had predicted, the snow departed as q... -0.580118        0.476676\n",
       "3  And outside before the palace a great garden w... -1.054013        0.450007\n",
       "4  Once upon a time there were Three Bears who li...  0.247197        0.510845"
      ]
     },
     "execution_count": 5,
     "metadata": {},
     "output_type": "execute_result"
    }
   ],
   "source": [
    "train_df = train_df.drop(columns=['id','url_legal','license'])\n",
    "train_df.head()"
   ]
  },
  {
   "cell_type": "markdown",
   "id": "7889c703",
   "metadata": {},
   "source": [
    "## Convert text into lower case"
   ]
  },
  {
   "cell_type": "code",
   "execution_count": 6,
   "id": "5a47ee2f",
   "metadata": {},
   "outputs": [
    {
     "data": {
      "text/plain": [
       "0    When the young people returned to the ballroom...\n",
       "1    All through dinner time, Mrs. Fayre was somewh...\n",
       "2    As Roger had predicted, the snow departed as q...\n",
       "3    And outside before the palace a great garden w...\n",
       "4    Once upon a time there were Three Bears who li...\n",
       "Name: excerpt, dtype: object"
      ]
     },
     "execution_count": 6,
     "metadata": {},
     "output_type": "execute_result"
    }
   ],
   "source": [
    "excerpts = train_df[\"excerpt\"]\n",
    "target = train_df[\"target\"]\n",
    "\n",
    "excerpts.str.lower()\n",
    "excerpts.head()"
   ]
  },
  {
   "cell_type": "markdown",
   "id": "e191de86",
   "metadata": {},
   "source": [
    "## stemming"
   ]
  },
  {
   "cell_type": "code",
   "execution_count": 7,
   "id": "030594a6",
   "metadata": {},
   "outputs": [
    {
     "data": {
      "text/plain": [
       "0    when the young people returned to the ballroom...\n",
       "1    all through dinner time, mrs. fayre was somewh...\n",
       "2    as roger had predicted, the snow departed as q...\n",
       "3    and outside before the palace a great garden w...\n",
       "4    once upon a time there were three bears who li...\n",
       "Name: excerpt, dtype: object"
      ]
     },
     "execution_count": 7,
     "metadata": {},
     "output_type": "execute_result"
    }
   ],
   "source": [
    "from nltk.stem import PorterStemmer\n",
    "ps = PorterStemmer()\n",
    "excerpts = excerpts.apply(ps.stem)\n",
    "excerpts.head()"
   ]
  },
  {
   "cell_type": "markdown",
   "id": "4079f32b",
   "metadata": {},
   "source": [
    "## Lemmatization"
   ]
  },
  {
   "cell_type": "code",
   "execution_count": 8,
   "id": "7adf53f0",
   "metadata": {},
   "outputs": [],
   "source": [
    "from nltk.stem import WordNetLemmatizer\n",
    "wnl = WordNetLemmatizer()\n",
    "excerpts = excerpts.apply(wnl.lemmatize)"
   ]
  },
  {
   "cell_type": "markdown",
   "id": "479b1e26",
   "metadata": {},
   "source": [
    "## Removing stopwords"
   ]
  },
  {
   "cell_type": "code",
   "execution_count": 9,
   "id": "45bbd622",
   "metadata": {},
   "outputs": [],
   "source": [
    "from nltk.corpus import stopwords\n",
    "\", \".join(stopwords.words('english'))\n",
    "STOPWORDS = set(stopwords.words('english'))\n",
    "def remove_stopwords(text):\n",
    "    \"\"\"custom function to remove the stopwords\"\"\"\n",
    "    return \" \".join([word for word in str(text).split() if word not in STOPWORDS])\n",
    "excerpts = excerpts.apply(lambda text: remove_stopwords(text))"
   ]
  },
  {
   "cell_type": "markdown",
   "id": "e6109e67",
   "metadata": {},
   "source": [
    "## Train-test split"
   ]
  },
  {
   "cell_type": "code",
   "execution_count": 10,
   "id": "6cf13017",
   "metadata": {},
   "outputs": [
    {
     "data": {
      "text/plain": [
       "405     hippocrates (c. 460 – c. 370 bc) greek doctor ...\n",
       "836     long ago, clever cat foolish dog. clever cat l...\n",
       "57      cry long, however, brave could expected prince...\n",
       "1775    produce electric current, needed lower suspend...\n",
       "2525    mun bun disobedient little boy; daddy bunker s...\n",
       "Name: excerpt, dtype: object"
      ]
     },
     "execution_count": 10,
     "metadata": {},
     "output_type": "execute_result"
    }
   ],
   "source": [
    "excerpts_train, excerpts_val, y_train, y_val = train_test_split(excerpts, target, test_size=0.2)\n",
    "excerpts_train.head()"
   ]
  },
  {
   "cell_type": "code",
   "execution_count": 11,
   "id": "93b16fe0",
   "metadata": {},
   "outputs": [
    {
     "data": {
      "text/plain": [
       "CountVectorizer()"
      ]
     },
     "execution_count": 11,
     "metadata": {},
     "output_type": "execute_result"
    }
   ],
   "source": [
    "vectorizer = CountVectorizer()\n",
    "vectorizer.fit(excerpts_train)"
   ]
  },
  {
   "cell_type": "code",
   "execution_count": 12,
   "id": "9a60bb67",
   "metadata": {},
   "outputs": [],
   "source": [
    "X_train = vectorizer.transform(excerpts_train)\n",
    "X_val = vectorizer.transform(excerpts_val)\n",
    "#print(X_train)"
   ]
  },
  {
   "cell_type": "markdown",
   "id": "494ca533",
   "metadata": {},
   "source": [
    "# Training"
   ]
  },
  {
   "cell_type": "markdown",
   "id": "1b3ace69",
   "metadata": {},
   "source": [
    "## Random Forest"
   ]
  },
  {
   "cell_type": "code",
   "execution_count": 13,
   "id": "585e7f9d",
   "metadata": {},
   "outputs": [
    {
     "data": {
      "text/plain": [
       "RandomForestRegressor(max_depth=100, random_state=42)"
      ]
     },
     "execution_count": 13,
     "metadata": {},
     "output_type": "execute_result"
    }
   ],
   "source": [
    "from sklearn.tree import DecisionTreeRegressor\n",
    "from sklearn.metrics import mean_squared_error, mean_absolute_error\n",
    "from sklearn.model_selection import GridSearchCV\n",
    "import numpy as np \n",
    "\n",
    "regressor = RandomForestRegressor(random_state=42,n_estimators=100,max_depth=100)\n",
    "regressor.fit(X_train,y_train)"
   ]
  },
  {
   "cell_type": "code",
   "execution_count": 14,
   "id": "52e3a0c1",
   "metadata": {},
   "outputs": [
    {
     "name": "stdout",
     "output_type": "stream",
     "text": [
      "0.32\n"
     ]
    }
   ],
   "source": [
    "\n",
    "y_pred = regressor.predict(X_train)\n",
    "error = np.sqrt(mean_squared_error(y_train,y_pred))\n",
    "print(\"{:,.02f}\".format(error))"
   ]
  },
  {
   "cell_type": "markdown",
   "id": "0377cb10",
   "metadata": {},
   "source": [
    "# Evaluate "
   ]
  },
  {
   "cell_type": "code",
   "execution_count": 15,
   "id": "0df1b4fe",
   "metadata": {},
   "outputs": [
    {
     "name": "stdout",
     "output_type": "stream",
     "text": [
      "RMSE Train: 0.3174112784946647\n",
      "RMSE Val: 0.8325789183586854\n"
     ]
    }
   ],
   "source": [
    "train_pred = regressor.predict(X_train)\n",
    "val_pred = regressor.predict(X_val)\n",
    "rmse_train = np.sqrt(mean_squared_error(y_train,train_pred))\n",
    "rmse_val = np.sqrt(mean_squared_error(y_val,val_pred))\n",
    "print(\"RMSE Train: {}\".format(rmse_train))\n",
    "print(\"RMSE Val: {}\".format(rmse_val))"
   ]
  },
  {
   "cell_type": "markdown",
   "id": "aae0919f",
   "metadata": {},
   "source": [
    "# Working on Testing data"
   ]
  },
  {
   "cell_type": "code",
   "execution_count": 16,
   "id": "6b6b1f4c",
   "metadata": {},
   "outputs": [],
   "source": [
    "test_excerpts = test_df[\"excerpt\"]"
   ]
  },
  {
   "cell_type": "code",
   "execution_count": 17,
   "id": "316231bd",
   "metadata": {},
   "outputs": [],
   "source": [
    "test_excerpts = test_excerpts.str.lower()\n",
    "test_excerpts = test_excerpts.apply(ps.stem)\n",
    "test_excerpts = test_excerpts.apply(wnl.lemmatize)\n",
    "test_excerpts = test_excerpts.apply(lambda text: remove_stopwords(text))"
   ]
  },
  {
   "cell_type": "code",
   "execution_count": 18,
   "id": "b24ea7fd",
   "metadata": {},
   "outputs": [],
   "source": [
    "X_test = vectorizer.transform(test_excerpts)"
   ]
  },
  {
   "cell_type": "markdown",
   "id": "0928e27e",
   "metadata": {},
   "source": [
    "# Predict"
   ]
  },
  {
   "cell_type": "code",
   "execution_count": 19,
   "id": "f08f79ce",
   "metadata": {},
   "outputs": [],
   "source": [
    "test_preds = regressor.predict(X_test)"
   ]
  },
  {
   "cell_type": "markdown",
   "id": "56188e58",
   "metadata": {},
   "source": [
    "# Export to CSV"
   ]
  },
  {
   "cell_type": "code",
   "execution_count": 20,
   "id": "93d741b7",
   "metadata": {},
   "outputs": [
    {
     "data": {
      "text/html": [
       "<div>\n",
       "<style scoped>\n",
       "    .dataframe tbody tr th:only-of-type {\n",
       "        vertical-align: middle;\n",
       "    }\n",
       "\n",
       "    .dataframe tbody tr th {\n",
       "        vertical-align: top;\n",
       "    }\n",
       "\n",
       "    .dataframe thead th {\n",
       "        text-align: right;\n",
       "    }\n",
       "</style>\n",
       "<table border=\"1\" class=\"dataframe\">\n",
       "  <thead>\n",
       "    <tr style=\"text-align: right;\">\n",
       "      <th></th>\n",
       "      <th>id</th>\n",
       "      <th>target</th>\n",
       "    </tr>\n",
       "  </thead>\n",
       "  <tbody>\n",
       "    <tr>\n",
       "      <th>0</th>\n",
       "      <td>c0f722661</td>\n",
       "      <td>-1.036358</td>\n",
       "    </tr>\n",
       "    <tr>\n",
       "      <th>1</th>\n",
       "      <td>f0953f0a5</td>\n",
       "      <td>-0.365061</td>\n",
       "    </tr>\n",
       "    <tr>\n",
       "      <th>2</th>\n",
       "      <td>0df072751</td>\n",
       "      <td>-0.289395</td>\n",
       "    </tr>\n",
       "    <tr>\n",
       "      <th>3</th>\n",
       "      <td>04caf4e0c</td>\n",
       "      <td>-1.636836</td>\n",
       "    </tr>\n",
       "    <tr>\n",
       "      <th>4</th>\n",
       "      <td>0e63f8bea</td>\n",
       "      <td>-1.435692</td>\n",
       "    </tr>\n",
       "    <tr>\n",
       "      <th>5</th>\n",
       "      <td>12537fe78</td>\n",
       "      <td>-0.851620</td>\n",
       "    </tr>\n",
       "    <tr>\n",
       "      <th>6</th>\n",
       "      <td>965e592c0</td>\n",
       "      <td>-0.999787</td>\n",
       "    </tr>\n",
       "  </tbody>\n",
       "</table>\n",
       "</div>"
      ],
      "text/plain": [
       "          id    target\n",
       "0  c0f722661 -1.036358\n",
       "1  f0953f0a5 -0.365061\n",
       "2  0df072751 -0.289395\n",
       "3  04caf4e0c -1.636836\n",
       "4  0e63f8bea -1.435692\n",
       "5  12537fe78 -0.851620\n",
       "6  965e592c0 -0.999787"
      ]
     },
     "execution_count": 20,
     "metadata": {},
     "output_type": "execute_result"
    }
   ],
   "source": [
    "x_sub = test_df[[\"id\"]].copy()\n",
    "x_sub[\"target\"] = test_preds\n",
    "x_sub.to_csv('submission.csv', index = False)\n",
    "x_sub"
   ]
  }
 ],
 "metadata": {
  "kernelspec": {
   "display_name": "ml",
   "language": "python",
   "name": "ml"
  },
  "language_info": {
   "codemirror_mode": {
    "name": "ipython",
    "version": 3
   },
   "file_extension": ".py",
   "mimetype": "text/x-python",
   "name": "python",
   "nbconvert_exporter": "python",
   "pygments_lexer": "ipython3",
   "version": "3.8.8"
  }
 },
 "nbformat": 4,
 "nbformat_minor": 5
}
