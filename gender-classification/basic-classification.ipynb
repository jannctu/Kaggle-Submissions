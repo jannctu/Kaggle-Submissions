{
 "cells": [
  {
   "cell_type": "code",
   "execution_count": 1,
   "id": "genetic-reward",
   "metadata": {
    "_cell_guid": "b1076dfc-b9ad-4769-8c92-a6c4dae69d19",
    "_uuid": "8f2839f25d086af736a60e9eeb907d3b93b6e0e5",
    "execution": {
     "iopub.execute_input": "2021-05-12T06:37:35.552073Z",
     "iopub.status.busy": "2021-05-12T06:37:35.550650Z",
     "iopub.status.idle": "2021-05-12T06:37:35.574536Z",
     "shell.execute_reply": "2021-05-12T06:37:35.575034Z"
    },
    "papermill": {
     "duration": 0.050276,
     "end_time": "2021-05-12T06:37:35.575327",
     "exception": false,
     "start_time": "2021-05-12T06:37:35.525051",
     "status": "completed"
    },
    "tags": []
   },
   "outputs": [],
   "source": [
    "import numpy as np # linear algebra\n",
    "import pandas as pd # data processing, CSV file I/O (e.g. pd.read_csv)"
   ]
  },
  {
   "cell_type": "markdown",
   "id": "fantastic-ferry",
   "metadata": {
    "papermill": {
     "duration": 0.020256,
     "end_time": "2021-05-12T06:37:35.617997",
     "exception": false,
     "start_time": "2021-05-12T06:37:35.597741",
     "status": "completed"
    },
    "tags": []
   },
   "source": [
    "## Read The Data"
   ]
  },
  {
   "cell_type": "code",
   "execution_count": 2,
   "id": "regulated-error",
   "metadata": {
    "execution": {
     "iopub.execute_input": "2021-05-12T06:37:35.662611Z",
     "iopub.status.busy": "2021-05-12T06:37:35.661903Z",
     "iopub.status.idle": "2021-05-12T06:37:35.712174Z",
     "shell.execute_reply": "2021-05-12T06:37:35.711447Z"
    },
    "papermill": {
     "duration": 0.073936,
     "end_time": "2021-05-12T06:37:35.712323",
     "exception": false,
     "start_time": "2021-05-12T06:37:35.638387",
     "status": "completed"
    },
    "tags": []
   },
   "outputs": [
    {
     "data": {
      "text/html": [
       "<div>\n",
       "<style scoped>\n",
       "    .dataframe tbody tr th:only-of-type {\n",
       "        vertical-align: middle;\n",
       "    }\n",
       "\n",
       "    .dataframe tbody tr th {\n",
       "        vertical-align: top;\n",
       "    }\n",
       "\n",
       "    .dataframe thead th {\n",
       "        text-align: right;\n",
       "    }\n",
       "</style>\n",
       "<table border=\"1\" class=\"dataframe\">\n",
       "  <thead>\n",
       "    <tr style=\"text-align: right;\">\n",
       "      <th></th>\n",
       "      <th>Favorite Color</th>\n",
       "      <th>Favorite Music Genre</th>\n",
       "      <th>Favorite Beverage</th>\n",
       "      <th>Favorite Soft Drink</th>\n",
       "      <th>Gender</th>\n",
       "    </tr>\n",
       "  </thead>\n",
       "  <tbody>\n",
       "    <tr>\n",
       "      <th>0</th>\n",
       "      <td>Cool</td>\n",
       "      <td>Rock</td>\n",
       "      <td>Vodka</td>\n",
       "      <td>7UP/Sprite</td>\n",
       "      <td>F</td>\n",
       "    </tr>\n",
       "    <tr>\n",
       "      <th>1</th>\n",
       "      <td>Neutral</td>\n",
       "      <td>Hip hop</td>\n",
       "      <td>Vodka</td>\n",
       "      <td>Coca Cola/Pepsi</td>\n",
       "      <td>F</td>\n",
       "    </tr>\n",
       "    <tr>\n",
       "      <th>2</th>\n",
       "      <td>Warm</td>\n",
       "      <td>Rock</td>\n",
       "      <td>Wine</td>\n",
       "      <td>Coca Cola/Pepsi</td>\n",
       "      <td>F</td>\n",
       "    </tr>\n",
       "    <tr>\n",
       "      <th>3</th>\n",
       "      <td>Warm</td>\n",
       "      <td>Folk/Traditional</td>\n",
       "      <td>Whiskey</td>\n",
       "      <td>Fanta</td>\n",
       "      <td>F</td>\n",
       "    </tr>\n",
       "    <tr>\n",
       "      <th>4</th>\n",
       "      <td>Cool</td>\n",
       "      <td>Rock</td>\n",
       "      <td>Vodka</td>\n",
       "      <td>Coca Cola/Pepsi</td>\n",
       "      <td>F</td>\n",
       "    </tr>\n",
       "  </tbody>\n",
       "</table>\n",
       "</div>"
      ],
      "text/plain": [
       "  Favorite Color Favorite Music Genre Favorite Beverage Favorite Soft Drink  \\\n",
       "0           Cool                 Rock             Vodka          7UP/Sprite   \n",
       "1        Neutral              Hip hop             Vodka     Coca Cola/Pepsi   \n",
       "2           Warm                 Rock              Wine     Coca Cola/Pepsi   \n",
       "3           Warm     Folk/Traditional           Whiskey               Fanta   \n",
       "4           Cool                 Rock             Vodka     Coca Cola/Pepsi   \n",
       "\n",
       "  Gender  \n",
       "0      F  \n",
       "1      F  \n",
       "2      F  \n",
       "3      F  \n",
       "4      F  "
      ]
     },
     "execution_count": 2,
     "metadata": {},
     "output_type": "execute_result"
    }
   ],
   "source": [
    "df = pd.read_csv('../../DATA/kaggle/gender-classification/Transformed Data Set - Sheet1.csv')\n",
    "df.head()"
   ]
  },
  {
   "cell_type": "markdown",
   "id": "imperial-offering",
   "metadata": {
    "papermill": {
     "duration": 0.02068,
     "end_time": "2021-05-12T06:37:35.755666",
     "exception": false,
     "start_time": "2021-05-12T06:37:35.734986",
     "status": "completed"
    },
    "tags": []
   },
   "source": [
    "### Features :\n",
    "- Fav Color\n",
    "- Fav Music genre\n",
    "- Fev Beverage\n",
    "- Fav Soft\n",
    "- Gender (label)"
   ]
  },
  {
   "cell_type": "markdown",
   "id": "another-portsmouth",
   "metadata": {
    "papermill": {
     "duration": 0.020962,
     "end_time": "2021-05-12T06:37:35.797798",
     "exception": false,
     "start_time": "2021-05-12T06:37:35.776836",
     "status": "completed"
    },
    "tags": []
   },
   "source": [
    "## Rename Columns "
   ]
  },
  {
   "cell_type": "code",
   "execution_count": 3,
   "id": "descending-istanbul",
   "metadata": {
    "execution": {
     "iopub.execute_input": "2021-05-12T06:37:35.846163Z",
     "iopub.status.busy": "2021-05-12T06:37:35.845401Z",
     "iopub.status.idle": "2021-05-12T06:37:35.850696Z",
     "shell.execute_reply": "2021-05-12T06:37:35.850046Z"
    },
    "papermill": {
     "duration": 0.032043,
     "end_time": "2021-05-12T06:37:35.850834",
     "exception": false,
     "start_time": "2021-05-12T06:37:35.818791",
     "status": "completed"
    },
    "tags": []
   },
   "outputs": [
    {
     "data": {
      "text/plain": [
       "Index(['color', 'music', 'beverage', 'softdrink', 'label'], dtype='object')"
      ]
     },
     "execution_count": 3,
     "metadata": {},
     "output_type": "execute_result"
    }
   ],
   "source": [
    "df.columns = ['color', 'music','beverage','softdrink','label']\n",
    "df.columns"
   ]
  },
  {
   "cell_type": "markdown",
   "id": "delayed-retreat",
   "metadata": {
    "papermill": {
     "duration": 0.022054,
     "end_time": "2021-05-12T06:37:35.899470",
     "exception": false,
     "start_time": "2021-05-12T06:37:35.877416",
     "status": "completed"
    },
    "tags": []
   },
   "source": []
  },
  {
   "cell_type": "markdown",
   "id": "communist-electric",
   "metadata": {
    "papermill": {
     "duration": 0.021453,
     "end_time": "2021-05-12T06:37:35.942783",
     "exception": false,
     "start_time": "2021-05-12T06:37:35.921330",
     "status": "completed"
    },
    "tags": []
   },
   "source": [
    "## Inspect the Data"
   ]
  },
  {
   "cell_type": "code",
   "execution_count": 4,
   "id": "renewable-blood",
   "metadata": {
    "execution": {
     "iopub.execute_input": "2021-05-12T06:37:35.995840Z",
     "iopub.status.busy": "2021-05-12T06:37:35.994818Z",
     "iopub.status.idle": "2021-05-12T06:37:35.999418Z",
     "shell.execute_reply": "2021-05-12T06:37:35.998890Z"
    },
    "papermill": {
     "duration": 0.034193,
     "end_time": "2021-05-12T06:37:35.999559",
     "exception": false,
     "start_time": "2021-05-12T06:37:35.965366",
     "status": "completed"
    },
    "tags": []
   },
   "outputs": [
    {
     "data": {
      "text/plain": [
       "color        66\n",
       "music        66\n",
       "beverage     66\n",
       "softdrink    66\n",
       "label        66\n",
       "dtype: int64"
      ]
     },
     "execution_count": 4,
     "metadata": {},
     "output_type": "execute_result"
    }
   ],
   "source": [
    "df.count()"
   ]
  },
  {
   "cell_type": "markdown",
   "id": "representative-norman",
   "metadata": {
    "papermill": {
     "duration": 0.022669,
     "end_time": "2021-05-12T06:37:36.046090",
     "exception": false,
     "start_time": "2021-05-12T06:37:36.023421",
     "status": "completed"
    },
    "tags": []
   },
   "source": [
    "**Only 6 rows**"
   ]
  },
  {
   "cell_type": "markdown",
   "id": "assumed-employment",
   "metadata": {
    "papermill": {
     "duration": 0.023516,
     "end_time": "2021-05-12T06:37:36.091848",
     "exception": false,
     "start_time": "2021-05-12T06:37:36.068332",
     "status": "completed"
    },
    "tags": []
   },
   "source": [
    "## Check Missing Values"
   ]
  },
  {
   "cell_type": "code",
   "execution_count": 5,
   "id": "corresponding-myrtle",
   "metadata": {
    "execution": {
     "iopub.execute_input": "2021-05-12T06:37:36.144538Z",
     "iopub.status.busy": "2021-05-12T06:37:36.143782Z",
     "iopub.status.idle": "2021-05-12T06:37:36.148676Z",
     "shell.execute_reply": "2021-05-12T06:37:36.148131Z"
    },
    "papermill": {
     "duration": 0.034552,
     "end_time": "2021-05-12T06:37:36.148826",
     "exception": false,
     "start_time": "2021-05-12T06:37:36.114274",
     "status": "completed"
    },
    "tags": []
   },
   "outputs": [
    {
     "data": {
      "text/plain": [
       "color        0\n",
       "music        0\n",
       "beverage     0\n",
       "softdrink    0\n",
       "label        0\n",
       "dtype: int64"
      ]
     },
     "execution_count": 5,
     "metadata": {},
     "output_type": "execute_result"
    }
   ],
   "source": [
    "df.isnull().sum()"
   ]
  },
  {
   "cell_type": "markdown",
   "id": "raised-alloy",
   "metadata": {
    "papermill": {
     "duration": 0.022503,
     "end_time": "2021-05-12T06:37:36.194028",
     "exception": false,
     "start_time": "2021-05-12T06:37:36.171525",
     "status": "completed"
    },
    "tags": []
   },
   "source": [
    "**No missing Values**"
   ]
  },
  {
   "cell_type": "markdown",
   "id": "frequent-preference",
   "metadata": {
    "papermill": {
     "duration": 0.023012,
     "end_time": "2021-05-12T06:37:36.240166",
     "exception": false,
     "start_time": "2021-05-12T06:37:36.217154",
     "status": "completed"
    },
    "tags": []
   },
   "source": []
  },
  {
   "cell_type": "markdown",
   "id": "cultural-works",
   "metadata": {
    "papermill": {
     "duration": 0.02239,
     "end_time": "2021-05-12T06:37:36.285297",
     "exception": false,
     "start_time": "2021-05-12T06:37:36.262907",
     "status": "completed"
    },
    "tags": []
   },
   "source": [
    "## Encode the Data"
   ]
  },
  {
   "cell_type": "code",
   "execution_count": 6,
   "id": "northern-greek",
   "metadata": {
    "execution": {
     "iopub.execute_input": "2021-05-12T06:37:36.333225Z",
     "iopub.status.busy": "2021-05-12T06:37:36.332597Z",
     "iopub.status.idle": "2021-05-12T06:37:37.594161Z",
     "shell.execute_reply": "2021-05-12T06:37:37.593612Z"
    },
    "papermill": {
     "duration": 1.286573,
     "end_time": "2021-05-12T06:37:37.594309",
     "exception": false,
     "start_time": "2021-05-12T06:37:36.307736",
     "status": "completed"
    },
    "tags": []
   },
   "outputs": [
    {
     "data": {
      "text/html": [
       "<div>\n",
       "<style scoped>\n",
       "    .dataframe tbody tr th:only-of-type {\n",
       "        vertical-align: middle;\n",
       "    }\n",
       "\n",
       "    .dataframe tbody tr th {\n",
       "        vertical-align: top;\n",
       "    }\n",
       "\n",
       "    .dataframe thead th {\n",
       "        text-align: right;\n",
       "    }\n",
       "</style>\n",
       "<table border=\"1\" class=\"dataframe\">\n",
       "  <thead>\n",
       "    <tr style=\"text-align: right;\">\n",
       "      <th></th>\n",
       "      <th>color</th>\n",
       "      <th>music</th>\n",
       "      <th>beverage</th>\n",
       "      <th>softdrink</th>\n",
       "      <th>label</th>\n",
       "    </tr>\n",
       "  </thead>\n",
       "  <tbody>\n",
       "    <tr>\n",
       "      <th>0</th>\n",
       "      <td>0</td>\n",
       "      <td>6</td>\n",
       "      <td>3</td>\n",
       "      <td>0</td>\n",
       "      <td>0</td>\n",
       "    </tr>\n",
       "    <tr>\n",
       "      <th>1</th>\n",
       "      <td>1</td>\n",
       "      <td>2</td>\n",
       "      <td>3</td>\n",
       "      <td>1</td>\n",
       "      <td>0</td>\n",
       "    </tr>\n",
       "    <tr>\n",
       "      <th>2</th>\n",
       "      <td>2</td>\n",
       "      <td>6</td>\n",
       "      <td>5</td>\n",
       "      <td>1</td>\n",
       "      <td>0</td>\n",
       "    </tr>\n",
       "    <tr>\n",
       "      <th>3</th>\n",
       "      <td>2</td>\n",
       "      <td>1</td>\n",
       "      <td>4</td>\n",
       "      <td>2</td>\n",
       "      <td>0</td>\n",
       "    </tr>\n",
       "    <tr>\n",
       "      <th>4</th>\n",
       "      <td>0</td>\n",
       "      <td>6</td>\n",
       "      <td>3</td>\n",
       "      <td>1</td>\n",
       "      <td>0</td>\n",
       "    </tr>\n",
       "  </tbody>\n",
       "</table>\n",
       "</div>"
      ],
      "text/plain": [
       "   color  music  beverage  softdrink  label\n",
       "0      0      6         3          0      0\n",
       "1      1      2         3          1      0\n",
       "2      2      6         5          1      0\n",
       "3      2      1         4          2      0\n",
       "4      0      6         3          1      0"
      ]
     },
     "execution_count": 6,
     "metadata": {},
     "output_type": "execute_result"
    }
   ],
   "source": [
    "from sklearn.preprocessing import LabelEncoder\n",
    "le_color = LabelEncoder()\n",
    "data = df\n",
    "data['color'] = le_color.fit_transform(df.color.values)\n",
    "le_music = LabelEncoder()\n",
    "data['music'] = le_music.fit_transform(df.music.values)\n",
    "le_beverage = LabelEncoder()\n",
    "data['beverage'] = le_beverage.fit_transform(df.beverage.values)\n",
    "le_softdrink = LabelEncoder()\n",
    "data['softdrink'] = le_softdrink.fit_transform(df.softdrink.values)\n",
    "le_label = LabelEncoder()\n",
    "data['label'] = le_label.fit_transform(df.label.values)\n",
    "data.head()"
   ]
  },
  {
   "cell_type": "code",
   "execution_count": 7,
   "id": "solar-cooperative",
   "metadata": {
    "execution": {
     "iopub.execute_input": "2021-05-12T06:37:37.645899Z",
     "iopub.status.busy": "2021-05-12T06:37:37.645234Z",
     "iopub.status.idle": "2021-05-12T06:37:38.469813Z",
     "shell.execute_reply": "2021-05-12T06:37:38.470624Z"
    },
    "papermill": {
     "duration": 0.853331,
     "end_time": "2021-05-12T06:37:38.470839",
     "exception": false,
     "start_time": "2021-05-12T06:37:37.617508",
     "status": "completed"
    },
    "tags": []
   },
   "outputs": [
    {
     "data": {
      "image/png": "[encoded data removed]",
      "text/plain": [
       "<Figure size 443.125x360 with 1 Axes>"
      ]
     },
     "metadata": {
      "needs_background": "light"
     },
     "output_type": "display_data"
    }
   ],
   "source": [
    "import seaborn as sns \n",
    "import matplotlib.pyplot as plt\n",
    "\n",
    "sns.displot(data)\n",
    "\n",
    "plt.show()"
   ]
  },
  {
   "cell_type": "code",
   "execution_count": 8,
   "id": "weighted-wallace",
   "metadata": {
    "execution": {
     "iopub.execute_input": "2021-05-12T06:37:38.535149Z",
     "iopub.status.busy": "2021-05-12T06:37:38.534117Z",
     "iopub.status.idle": "2021-05-12T06:37:38.552127Z",
     "shell.execute_reply": "2021-05-12T06:37:38.552849Z"
    },
    "papermill": {
     "duration": 0.051504,
     "end_time": "2021-05-12T06:37:38.553126",
     "exception": false,
     "start_time": "2021-05-12T06:37:38.501622",
     "status": "completed"
    },
    "tags": []
   },
   "outputs": [
    {
     "data": {
      "text/plain": [
       "0    33\n",
       "1    33\n",
       "Name: label, dtype: int64"
      ]
     },
     "execution_count": 8,
     "metadata": {},
     "output_type": "execute_result"
    }
   ],
   "source": [
    "data['label'].value_counts()"
   ]
  },
  {
   "cell_type": "markdown",
   "id": "formal-plaintiff",
   "metadata": {
    "papermill": {
     "duration": 0.026326,
     "end_time": "2021-05-12T06:37:38.609800",
     "exception": false,
     "start_time": "2021-05-12T06:37:38.583474",
     "status": "completed"
    },
    "tags": []
   },
   "source": [
    "**Balanced Data**"
   ]
  },
  {
   "cell_type": "markdown",
   "id": "fatty-building",
   "metadata": {
    "papermill": {
     "duration": 0.029702,
     "end_time": "2021-05-12T06:37:38.664858",
     "exception": false,
     "start_time": "2021-05-12T06:37:38.635156",
     "status": "completed"
    },
    "tags": []
   },
   "source": [
    "## Split Data into Train and Test"
   ]
  },
  {
   "cell_type": "code",
   "execution_count": 9,
   "id": "public-fossil",
   "metadata": {
    "execution": {
     "iopub.execute_input": "2021-05-12T06:37:38.722329Z",
     "iopub.status.busy": "2021-05-12T06:37:38.721379Z",
     "iopub.status.idle": "2021-05-12T06:37:38.806079Z",
     "shell.execute_reply": "2021-05-12T06:37:38.807281Z"
    },
    "papermill": {
     "duration": 0.117005,
     "end_time": "2021-05-12T06:37:38.807542",
     "exception": false,
     "start_time": "2021-05-12T06:37:38.690537",
     "status": "completed"
    },
    "tags": []
   },
   "outputs": [],
   "source": [
    "from sklearn.model_selection import train_test_split\n",
    "Y = data['label']\n",
    "X = data.drop(['label'],axis=1)\n",
    "#X.head()\n",
    "X_train, X_test,Y_train, Y_test = train_test_split(X,Y,test_size=0.2, random_state=42) # Split 20% test data"
   ]
  },
  {
   "cell_type": "markdown",
   "id": "accepted-austria",
   "metadata": {
    "papermill": {
     "duration": 0.024993,
     "end_time": "2021-05-12T06:37:38.857557",
     "exception": false,
     "start_time": "2021-05-12T06:37:38.832564",
     "status": "completed"
    },
    "tags": []
   },
   "source": []
  },
  {
   "cell_type": "markdown",
   "id": "czech-academy",
   "metadata": {
    "papermill": {
     "duration": 0.025089,
     "end_time": "2021-05-12T06:37:38.908726",
     "exception": false,
     "start_time": "2021-05-12T06:37:38.883637",
     "status": "completed"
    },
    "tags": []
   },
   "source": [
    "## Build Model "
   ]
  },
  {
   "cell_type": "markdown",
   "id": "parliamentary-equity",
   "metadata": {
    "papermill": {
     "duration": 0.025229,
     "end_time": "2021-05-12T06:37:38.959430",
     "exception": false,
     "start_time": "2021-05-12T06:37:38.934201",
     "status": "completed"
    },
    "tags": []
   },
   "source": [
    "### Logistic Regression"
   ]
  },
  {
   "cell_type": "code",
   "execution_count": 10,
   "id": "incomplete-interval",
   "metadata": {
    "execution": {
     "iopub.execute_input": "2021-05-12T06:37:39.015844Z",
     "iopub.status.busy": "2021-05-12T06:37:39.015009Z",
     "iopub.status.idle": "2021-05-12T06:37:39.161675Z",
     "shell.execute_reply": "2021-05-12T06:37:39.162217Z"
    },
    "papermill": {
     "duration": 0.177869,
     "end_time": "2021-05-12T06:37:39.162420",
     "exception": false,
     "start_time": "2021-05-12T06:37:38.984551",
     "status": "completed"
    },
    "tags": []
   },
   "outputs": [
    {
     "data": {
      "text/plain": [
       "LogisticRegression(random_state=42)"
      ]
     },
     "execution_count": 10,
     "metadata": {},
     "output_type": "execute_result"
    }
   ],
   "source": [
    "from sklearn.linear_model import LogisticRegression\n",
    "\n",
    "model = LogisticRegression(random_state=42)\n",
    "model.fit(X_train, Y_train)"
   ]
  },
  {
   "cell_type": "markdown",
   "id": "august-transaction",
   "metadata": {
    "papermill": {
     "duration": 0.026902,
     "end_time": "2021-05-12T06:37:39.214435",
     "exception": false,
     "start_time": "2021-05-12T06:37:39.187533",
     "status": "completed"
    },
    "tags": []
   },
   "source": [
    "## Check on Training Data "
   ]
  },
  {
   "cell_type": "code",
   "execution_count": 11,
   "id": "consolidated-powder",
   "metadata": {
    "execution": {
     "iopub.execute_input": "2021-05-12T06:37:39.268971Z",
     "iopub.status.busy": "2021-05-12T06:37:39.268012Z",
     "iopub.status.idle": "2021-05-12T06:37:39.287397Z",
     "shell.execute_reply": "2021-05-12T06:37:39.286582Z"
    },
    "papermill": {
     "duration": 0.047722,
     "end_time": "2021-05-12T06:37:39.287588",
     "exception": false,
     "start_time": "2021-05-12T06:37:39.239866",
     "status": "completed"
    },
    "tags": []
   },
   "outputs": [
    {
     "name": "stdout",
     "output_type": "stream",
     "text": [
      "              precision    recall  f1-score   support\n",
      "\n",
      "           0       0.55      0.62      0.58        26\n",
      "           1       0.57      0.50      0.53        26\n",
      "\n",
      "    accuracy                           0.56        52\n",
      "   macro avg       0.56      0.56      0.56        52\n",
      "weighted avg       0.56      0.56      0.56        52\n",
      "\n"
     ]
    }
   ],
   "source": [
    "from sklearn.metrics import classification_report, confusion_matrix\n",
    "p_train_pred = model.predict_proba(X_train)\n",
    "y_train_pred = model.predict(X_train)\n",
    "\n",
    "conf_m_train = confusion_matrix(Y_train, y_train_pred)\n",
    "report_train = classification_report(Y_train, y_train_pred)\n",
    "print(report_train)"
   ]
  },
  {
   "cell_type": "markdown",
   "id": "educational-attribute",
   "metadata": {
    "papermill": {
     "duration": 0.025943,
     "end_time": "2021-05-12T06:37:39.339800",
     "exception": false,
     "start_time": "2021-05-12T06:37:39.313857",
     "status": "completed"
    },
    "tags": []
   },
   "source": []
  },
  {
   "cell_type": "markdown",
   "id": "insured-syndicate",
   "metadata": {
    "papermill": {
     "duration": 0.025475,
     "end_time": "2021-05-12T06:37:39.391260",
     "exception": false,
     "start_time": "2021-05-12T06:37:39.365785",
     "status": "completed"
    },
    "tags": []
   },
   "source": [
    "## Evaluate on Test Data"
   ]
  },
  {
   "cell_type": "code",
   "execution_count": 12,
   "id": "moral-protest",
   "metadata": {
    "execution": {
     "iopub.execute_input": "2021-05-12T06:37:39.456461Z",
     "iopub.status.busy": "2021-05-12T06:37:39.455788Z",
     "iopub.status.idle": "2021-05-12T06:37:39.462842Z",
     "shell.execute_reply": "2021-05-12T06:37:39.463367Z"
    },
    "papermill": {
     "duration": 0.046191,
     "end_time": "2021-05-12T06:37:39.463536",
     "exception": false,
     "start_time": "2021-05-12T06:37:39.417345",
     "status": "completed"
    },
    "tags": []
   },
   "outputs": [
    {
     "name": "stdout",
     "output_type": "stream",
     "text": [
      "              precision    recall  f1-score   support\n",
      "\n",
      "           0       0.75      0.43      0.55         7\n",
      "           1       0.60      0.86      0.71         7\n",
      "\n",
      "    accuracy                           0.64        14\n",
      "   macro avg       0.68      0.64      0.63        14\n",
      "weighted avg       0.67      0.64      0.63        14\n",
      "\n"
     ]
    }
   ],
   "source": [
    "p_test_pred = model.predict_proba(X_test)\n",
    "y_test_pred = model.predict(X_test)\n",
    "\n",
    "conf_m_train = confusion_matrix(Y_test, y_test_pred)\n",
    "report_train = classification_report(Y_test, y_test_pred)\n",
    "print(report_train)"
   ]
  },
  {
   "cell_type": "markdown",
   "id": "integral-orchestra",
   "metadata": {
    "papermill": {
     "duration": 0.025876,
     "end_time": "2021-05-12T06:37:39.515593",
     "exception": false,
     "start_time": "2021-05-12T06:37:39.489717",
     "status": "completed"
    },
    "tags": []
   },
   "source": [
    "## Try Random Forest Classifier "
   ]
  },
  {
   "cell_type": "code",
   "execution_count": 13,
   "id": "lightweight-maria",
   "metadata": {
    "execution": {
     "iopub.execute_input": "2021-05-12T06:37:39.574560Z",
     "iopub.status.busy": "2021-05-12T06:37:39.573614Z",
     "iopub.status.idle": "2021-05-12T06:37:39.745653Z",
     "shell.execute_reply": "2021-05-12T06:37:39.746724Z"
    },
    "papermill": {
     "duration": 0.204628,
     "end_time": "2021-05-12T06:37:39.746916",
     "exception": false,
     "start_time": "2021-05-12T06:37:39.542288",
     "status": "completed"
    },
    "tags": []
   },
   "outputs": [
    {
     "name": "stdout",
     "output_type": "stream",
     "text": [
      "Accuracy: 0.9230769230769231\n"
     ]
    }
   ],
   "source": [
    "from sklearn.ensemble import RandomForestClassifier\n",
    "from sklearn import metrics\n",
    "\n",
    "#Create a Gaussian Classifier\n",
    "clf=RandomForestClassifier(n_estimators=5,random_state=42)\n",
    "clf.fit(X_train, Y_train)\n",
    "\n",
    "\n",
    "y_pred=clf.predict(X_train)\n",
    "print(\"Accuracy:\",metrics.accuracy_score(Y_train, y_pred))"
   ]
  },
  {
   "cell_type": "markdown",
   "id": "empirical-connectivity",
   "metadata": {
    "papermill": {
     "duration": 0.026615,
     "end_time": "2021-05-12T06:37:39.800021",
     "exception": false,
     "start_time": "2021-05-12T06:37:39.773406",
     "status": "completed"
    },
    "tags": []
   },
   "source": [
    "### Try RF on Test Data"
   ]
  },
  {
   "cell_type": "code",
   "execution_count": 14,
   "id": "flush-organization",
   "metadata": {
    "execution": {
     "iopub.execute_input": "2021-05-12T06:37:39.863232Z",
     "iopub.status.busy": "2021-05-12T06:37:39.862573Z",
     "iopub.status.idle": "2021-05-12T06:37:39.866692Z",
     "shell.execute_reply": "2021-05-12T06:37:39.867869Z"
    },
    "papermill": {
     "duration": 0.041086,
     "end_time": "2021-05-12T06:37:39.868182",
     "exception": false,
     "start_time": "2021-05-12T06:37:39.827096",
     "status": "completed"
    },
    "tags": []
   },
   "outputs": [
    {
     "name": "stdout",
     "output_type": "stream",
     "text": [
      "Accuracy: 0.2857142857142857\n"
     ]
    }
   ],
   "source": [
    "y_pred=clf.predict(X_test)\n",
    "print(\"Accuracy:\",metrics.accuracy_score(Y_test, y_pred))"
   ]
  },
  {
   "cell_type": "markdown",
   "id": "amino-month",
   "metadata": {
    "papermill": {
     "duration": 0.026331,
     "end_time": "2021-05-12T06:37:39.922473",
     "exception": false,
     "start_time": "2021-05-12T06:37:39.896142",
     "status": "completed"
    },
    "tags": []
   },
   "source": [
    "# Notes\n",
    "1. The data is too small. Only 66 instances. \n",
    "2. The data is balance and no need many preprocessing steps."
   ]
  },
  {
   "cell_type": "markdown",
   "id": "combined-owner",
   "metadata": {
    "papermill": {
     "duration": 0.026345,
     "end_time": "2021-05-12T06:37:39.975826",
     "exception": false,
     "start_time": "2021-05-12T06:37:39.949481",
     "status": "completed"
    },
    "tags": []
   },
   "source": []
  }
 ],
 "metadata": {
  "kernelspec": {
   "display_name": "Python 3",
   "language": "python",
   "name": "python3"
  },
  "language_info": {
   "codemirror_mode": {
    "name": "ipython",
    "version": 3
   },
   "file_extension": ".py",
   "mimetype": "text/x-python",
   "name": "python",
   "nbconvert_exporter": "python",
   "pygments_lexer": "ipython3",
   "version": "3.8.8"
  },
  "papermill": {
   "default_parameters": {},
   "duration": 12.03125,
   "end_time": "2021-05-12T06:37:40.714635",
   "environment_variables": {},
   "exception": null,
   "input_path": "__notebook__.ipynb",
   "output_path": "__notebook__.ipynb",
   "parameters": {},
   "start_time": "2021-05-12T06:37:28.683385",
   "version": "2.3.2"
  }
 },
 "nbformat": 4,
 "nbformat_minor": 5
}
